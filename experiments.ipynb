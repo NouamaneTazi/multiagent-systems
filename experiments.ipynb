{
 "cells": [
  {
   "cell_type": "code",
   "execution_count": null,
   "metadata": {},
   "outputs": [],
   "source": [
    "from mesa import Model\n",
    "from mesa.time import RandomActivation, BaseScheduler\n",
    "\n",
    "\n",
    "from communication.agent.CommunicatingAgent import CommunicatingAgent\n",
    "\n",
    "from communication.message.MessageService import MessageService\n",
    "from communication.message.MessagePerformative import MessagePerformative\n",
    "from communication.message.Message import Message\n",
    "\n",
    "from communication.preferences.CriterionName import CriterionName\n",
    "from communication.preferences.CriterionValue import CriterionValue\n",
    "from communication.preferences.Item import Item\n",
    "from communication.preferences.Value import Value\n",
    "from communication.preferences.Preferences import Preferences\n",
    "\n",
    "from communication.arguments.Argument import Argument\n",
    "\n",
    "import random as rd\n",
    "import pandas as pd\n",
    "import logging\n",
    "import colorama\n",
    "from collections import defaultdict\n"
   ]
  },
  {
   "cell_type": "markdown",
   "metadata": {},
   "source": [
    "## Set up agents"
   ]
  },
  {
   "cell_type": "code",
   "execution_count": null,
   "metadata": {},
   "outputs": [],
   "source": []
  },
  {
   "cell_type": "markdown",
   "metadata": {},
   "source": [
    "## Start negotiations"
   ]
  },
  {
   "cell_type": "code",
   "execution_count": null,
   "metadata": {},
   "outputs": [],
   "source": []
  },
  {
   "cell_type": "markdown",
   "metadata": {},
   "source": [
    "## Statistics"
   ]
  },
  {
   "cell_type": "code",
   "execution_count": null,
   "metadata": {},
   "outputs": [],
   "source": []
  }
 ],
 "metadata": {
  "language_info": {
   "name": "python"
  },
  "orig_nbformat": 4
 },
 "nbformat": 4,
 "nbformat_minor": 2
}
