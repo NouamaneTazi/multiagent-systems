{
 "cells": [
  {
   "cell_type": "code",
   "execution_count": 165,
   "metadata": {},
   "outputs": [
    {
     "name": "stdout",
     "output_type": "stream",
     "text": [
      "The autoreload extension is already loaded. To reload it, use:\n",
      "  %reload_ext autoreload\n"
     ]
    }
   ],
   "source": [
    "%load_ext autoreload\n",
    "%autoreload 2"
   ]
  },
  {
   "cell_type": "code",
   "execution_count": 185,
   "metadata": {},
   "outputs": [],
   "source": [
    "import logging\n",
    "import unittest\n",
    "import colorama\n",
    "import pandas as pd\n",
    "import numpy as np\n",
    "\n",
    "from communication.message.MessagePerformative import MessagePerformative\n",
    "from communication.preferences.CriterionName import CriterionName\n",
    "from communication.preferences.CriterionValue import CriterionValue\n",
    "from communication.preferences.Item import Item\n",
    "from communication.preferences.Preferences import Preferences\n",
    "from communication.preferences.Value import Value\n",
    "from pw_argumentation import ArgumentModel, format_argument\n",
    "\n",
    "colorama.init()  # INFO: used to print colored text on Windows"
   ]
  },
  {
   "cell_type": "markdown",
   "metadata": {},
   "source": [
    "## An example conversation between 2 agents"
   ]
  },
  {
   "cell_type": "markdown",
   "metadata": {},
   "source": [
    "### Performance Tables"
   ]
  },
  {
   "cell_type": "code",
   "execution_count": 176,
   "metadata": {},
   "outputs": [],
   "source": [
    "# generate random preferences\n",
    "def generate_pref_df(n_items=2, n_crit=len(CriterionName), n_values=len(Value)):\n",
    "    # generate preferences\n",
    "    df = pd.DataFrame(np.random.randint(0, n_values, size=(n_items, n_crit)))\n",
    "    # shuffle agent criteria preference order\n",
    "    df.columns = np.random.permutation(df.columns)\n",
    "    # drop random number of preferences\n",
    "    df = df.drop(columns=np.random.choice(df.columns, size=np.random.randint(0, len(df.columns)), replace=False))\n",
    "    return df\n",
    "\n",
    "def generate_preferences():\n",
    "    df = generate_pref_df()\n",
    "    for i, row in df.iterrows():\n",
    "        list_criteria = []\n",
    "        criteria_values = []\n",
    "        for j, val in row.iteritems():\n",
    "            list_criteria.append(CriterionName(j))\n",
    "            criteria_values.append(CriterionValue(Item(f\"item{i+1}\"), CriterionName(j), Value(val)))\n",
    "            df.rename(columns={j: CriterionName(j).name}, inplace=True)\n",
    "        df.rename(index={i: Item(f\"item{i+1}\")}, inplace=True)\n",
    "    return Preferences(list_criteria, criteria_values), df\n",
    "\n",
    "agents_prefs = []  # list of agents agents_prefs"
   ]
  },
  {
   "cell_type": "markdown",
   "metadata": {},
   "source": [
    "Agent 1:"
   ]
  },
  {
   "cell_type": "code",
   "execution_count": 179,
   "metadata": {},
   "outputs": [
    {
     "name": "stdout",
     "output_type": "stream",
     "text": [
      "Agent 1 preferences:\n"
     ]
    },
    {
     "data": {
      "text/html": [
       "<div>\n",
       "<style scoped>\n",
       "    .dataframe tbody tr th:only-of-type {\n",
       "        vertical-align: middle;\n",
       "    }\n",
       "\n",
       "    .dataframe tbody tr th {\n",
       "        vertical-align: top;\n",
       "    }\n",
       "\n",
       "    .dataframe thead th {\n",
       "        text-align: right;\n",
       "    }\n",
       "</style>\n",
       "<table border=\"1\" class=\"dataframe\">\n",
       "  <thead>\n",
       "    <tr style=\"text-align: right;\">\n",
       "      <th></th>\n",
       "      <th>PRODUCTION_COST</th>\n",
       "      <th>ENVIRONMENT_IMPACT</th>\n",
       "      <th>NOISE</th>\n",
       "    </tr>\n",
       "  </thead>\n",
       "  <tbody>\n",
       "    <tr>\n",
       "      <th>item1</th>\n",
       "      <td>1</td>\n",
       "      <td>2</td>\n",
       "      <td>1</td>\n",
       "    </tr>\n",
       "    <tr>\n",
       "      <th>item2</th>\n",
       "      <td>0</td>\n",
       "      <td>4</td>\n",
       "      <td>4</td>\n",
       "    </tr>\n",
       "  </tbody>\n",
       "</table>\n",
       "</div>"
      ],
      "text/plain": [
       "       PRODUCTION_COST  ENVIRONMENT_IMPACT  NOISE\n",
       "item1                1                   2      1\n",
       "item2                0                   4      4"
      ]
     },
     "execution_count": 179,
     "metadata": {},
     "output_type": "execute_result"
    }
   ],
   "source": [
    "prefs, df = generate_preferences()\n",
    "agents_prefs.append(Preferences(list_criteria, criteria_values))\n",
    "print(\"Agent 1 preferences:\")\n",
    "df"
   ]
  },
  {
   "cell_type": "markdown",
   "metadata": {},
   "source": [
    "Agent 2:"
   ]
  },
  {
   "cell_type": "code",
   "execution_count": 181,
   "metadata": {},
   "outputs": [
    {
     "name": "stdout",
     "output_type": "stream",
     "text": [
      "Agent 2 preferences:\n"
     ]
    },
    {
     "data": {
      "text/html": [
       "<div>\n",
       "<style scoped>\n",
       "    .dataframe tbody tr th:only-of-type {\n",
       "        vertical-align: middle;\n",
       "    }\n",
       "\n",
       "    .dataframe tbody tr th {\n",
       "        vertical-align: top;\n",
       "    }\n",
       "\n",
       "    .dataframe thead th {\n",
       "        text-align: right;\n",
       "    }\n",
       "</style>\n",
       "<table border=\"1\" class=\"dataframe\">\n",
       "  <thead>\n",
       "    <tr style=\"text-align: right;\">\n",
       "      <th></th>\n",
       "      <th>DURABILITY</th>\n",
       "      <th>CONSUMPTION</th>\n",
       "      <th>ENVIRONMENT_IMPACT</th>\n",
       "      <th>PRODUCTION_COST</th>\n",
       "      <th>NOISE</th>\n",
       "    </tr>\n",
       "  </thead>\n",
       "  <tbody>\n",
       "    <tr>\n",
       "      <th>item1</th>\n",
       "      <td>3</td>\n",
       "      <td>1</td>\n",
       "      <td>1</td>\n",
       "      <td>2</td>\n",
       "      <td>2</td>\n",
       "    </tr>\n",
       "    <tr>\n",
       "      <th>item2</th>\n",
       "      <td>4</td>\n",
       "      <td>2</td>\n",
       "      <td>3</td>\n",
       "      <td>4</td>\n",
       "      <td>3</td>\n",
       "    </tr>\n",
       "  </tbody>\n",
       "</table>\n",
       "</div>"
      ],
      "text/plain": [
       "       DURABILITY  CONSUMPTION  ENVIRONMENT_IMPACT  PRODUCTION_COST  NOISE\n",
       "item1           3            1                   1                2      2\n",
       "item2           4            2                   3                4      3"
      ]
     },
     "execution_count": 181,
     "metadata": {},
     "output_type": "execute_result"
    }
   ],
   "source": [
    "df = generate_pref_df()\n",
    "for i, row in df.iterrows():\n",
    "    list_criteria = []\n",
    "    criteria_values = []\n",
    "    for j, val in row.iteritems():\n",
    "        list_criteria.append(CriterionName(j))\n",
    "        criteria_values.append(CriterionValue(Item(f\"item{i+1}\"), CriterionName(j), Value(val)))\n",
    "        df.rename(columns={j: CriterionName(j).name}, inplace=True)\n",
    "    df.rename(index={i: Item(f\"item{i+1}\")}, inplace=True)\n",
    "agents_prefs.append(Preferences(list_criteria, criteria_values))\n",
    "print(\"Agent 2 preferences:\")\n",
    "df"
   ]
  },
  {
   "cell_type": "code",
   "execution_count": 183,
   "metadata": {},
   "outputs": [
    {
     "data": {
      "text/plain": [
       "{'winning_agent': 'A5',\n",
       " 'winning_item': item2,\n",
       " 'winning_argument': 'top_10_percent'}"
      ]
     },
     "execution_count": 183,
     "metadata": {},
     "output_type": "execute_result"
    }
   ],
   "source": [
    "results"
   ]
  },
  {
   "cell_type": "code",
   "execution_count": 186,
   "metadata": {},
   "outputs": [
    {
     "name": "stdout",
     "output_type": "stream",
     "text": [
      "Winning agent: A5\n",
      "Winning item: item2\n"
     ]
    },
    {
     "ename": "TypeError",
     "evalue": "string indices must be integers",
     "output_type": "error",
     "traceback": [
      "\u001b[0;31m---------------------------------------------------------------------------\u001b[0m",
      "\u001b[0;31mTypeError\u001b[0m                                 Traceback (most recent call last)",
      "\u001b[0;32m/tmp/ipykernel_12438/4268287352.py\u001b[0m in \u001b[0;36m<module>\u001b[0;34m\u001b[0m\n\u001b[1;32m      6\u001b[0m     \u001b[0mprint\u001b[0m\u001b[0;34m(\u001b[0m\u001b[0;34m\"Winning agent:\"\u001b[0m\u001b[0;34m,\u001b[0m \u001b[0mresults\u001b[0m\u001b[0;34m[\u001b[0m\u001b[0;34m\"winning_agent\"\u001b[0m\u001b[0;34m]\u001b[0m\u001b[0;34m)\u001b[0m\u001b[0;34m\u001b[0m\u001b[0;34m\u001b[0m\u001b[0m\n\u001b[1;32m      7\u001b[0m     \u001b[0mprint\u001b[0m\u001b[0;34m(\u001b[0m\u001b[0;34m\"Winning item:\"\u001b[0m\u001b[0;34m,\u001b[0m \u001b[0mresults\u001b[0m\u001b[0;34m[\u001b[0m\u001b[0;34m\"winning_item\"\u001b[0m\u001b[0;34m]\u001b[0m\u001b[0;34m)\u001b[0m\u001b[0;34m\u001b[0m\u001b[0;34m\u001b[0m\u001b[0m\n\u001b[0;32m----> 8\u001b[0;31m     \u001b[0mprint\u001b[0m\u001b[0;34m(\u001b[0m\u001b[0;34m\"Winning argument:\"\u001b[0m\u001b[0;34m,\u001b[0m \u001b[0mformat_argument\u001b[0m\u001b[0;34m(\u001b[0m\u001b[0mresults\u001b[0m\u001b[0;34m[\u001b[0m\u001b[0;34m\"winning_argument\"\u001b[0m\u001b[0;34m]\u001b[0m\u001b[0;34m)\u001b[0m\u001b[0;34m)\u001b[0m\u001b[0;34m\u001b[0m\u001b[0;34m\u001b[0m\u001b[0m\n\u001b[0m\u001b[1;32m      9\u001b[0m \u001b[0;34m\u001b[0m\u001b[0m\n\u001b[1;32m     10\u001b[0m \u001b[0mhistory\u001b[0m\u001b[0;34m\u001b[0m\u001b[0;34m\u001b[0m\u001b[0m\n",
      "\u001b[0;32m~/projects/algo/agent-modeling/argumentation/pw_argumentation.py\u001b[0m in \u001b[0;36mformat_argument\u001b[0;34m(arg)\u001b[0m\n\u001b[1;32m    527\u001b[0m \u001b[0;34m\u001b[0m\u001b[0m\n\u001b[1;32m    528\u001b[0m \u001b[0;32mdef\u001b[0m \u001b[0mformat_argument\u001b[0m\u001b[0;34m(\u001b[0m\u001b[0marg\u001b[0m\u001b[0;34m)\u001b[0m\u001b[0;34m:\u001b[0m\u001b[0;34m\u001b[0m\u001b[0;34m\u001b[0m\u001b[0m\n\u001b[0;32m--> 529\u001b[0;31m     \u001b[0ms\u001b[0m \u001b[0;34m=\u001b[0m \u001b[0;34mf\"{'not ' if arg['decision']=='con' else ''}{arg['item']}, \"\u001b[0m\u001b[0;34m\u001b[0m\u001b[0;34m\u001b[0m\u001b[0m\n\u001b[0m\u001b[1;32m    530\u001b[0m     \u001b[0;32mif\u001b[0m \u001b[0marg\u001b[0m \u001b[0;34m==\u001b[0m \u001b[0;34m\"top_10_percent\"\u001b[0m\u001b[0;34m:\u001b[0m\u001b[0;34m\u001b[0m\u001b[0;34m\u001b[0m\u001b[0m\n\u001b[1;32m    531\u001b[0m         \u001b[0;32mreturn\u001b[0m \u001b[0ms\u001b[0m \u001b[0;34m+\u001b[0m \u001b[0;34m\"because item is among top 10%\"\u001b[0m\u001b[0;34m\u001b[0m\u001b[0;34m\u001b[0m\u001b[0m\n",
      "\u001b[0;31mTypeError\u001b[0m: string indices must be integers"
     ]
    }
   ],
   "source": [
    "# argument_model = ArgumentModel(agents_prefs)\n",
    "# argument_model.run_model()\n",
    "\n",
    "# results, history = argument_model.get_final_result()\n",
    "if results:\n",
    "    print(\"Winning agent:\", results[\"winning_agent\"])\n",
    "    print(\"Winning item:\", results[\"winning_item\"])\n",
    "    print(\"Winning argument:\", format_argument(results[\"winning_argument\"]))\n",
    "\n",
    "history"
   ]
  },
  {
   "cell_type": "markdown",
   "metadata": {},
   "source": [
    "## Start negotiations"
   ]
  },
  {
   "cell_type": "code",
   "execution_count": null,
   "metadata": {},
   "outputs": [],
   "source": []
  },
  {
   "cell_type": "markdown",
   "metadata": {},
   "source": [
    "## Statistics"
   ]
  },
  {
   "cell_type": "code",
   "execution_count": null,
   "metadata": {},
   "outputs": [],
   "source": []
  }
 ],
 "metadata": {
  "interpreter": {
   "hash": "0e645e98646585abd283739653523787170af4dfceb3ed15e96f3b9895608722"
  },
  "kernelspec": {
   "display_name": "Python 3.9.5 ('base')",
   "language": "python",
   "name": "python3"
  },
  "language_info": {
   "codemirror_mode": {
    "name": "ipython",
    "version": 3
   },
   "file_extension": ".py",
   "mimetype": "text/x-python",
   "name": "python",
   "nbconvert_exporter": "python",
   "pygments_lexer": "ipython3",
   "version": "3.9.5"
  },
  "orig_nbformat": 4
 },
 "nbformat": 4,
 "nbformat_minor": 2
}
